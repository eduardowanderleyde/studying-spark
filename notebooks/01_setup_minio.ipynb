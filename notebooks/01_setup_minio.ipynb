{
  "cells": [
    {
      "cell_type": "markdown",
      "metadata": {},
      "source": [
        "# Setup MinIO - Criar Buckets\n",
        "\n",
        "Este notebook cria os buckets necessários no MinIO para a arquitetura de Data Lake.\n"
      ]
    },
    {
      "cell_type": "code",
      "execution_count": null,
      "metadata": {},
      "outputs": [],
      "source": [
        "# Instalar boto3 (necessário para comunicar com MinIO/S3)\n",
        "%pip install boto3\n"
      ]
    },
    {
      "cell_type": "code",
      "execution_count": null,
      "metadata": {},
      "outputs": [],
      "source": [
        "import boto3\n",
        "from botocore.exceptions import ClientError\n",
        "\n",
        "# Configuração do cliente MinIO\n",
        "s3_client = boto3.client(\n",
        "    's3',\n",
        "    endpoint_url='http://minio:9000',      # nome do serviço no docker-compose\n",
        "    aws_access_key_id='minioadmin',        # credenciais do docker-compose.yml\n",
        "    aws_secret_access_key='minioadmin',\n",
        "    region_name='local'\n",
        ")\n",
        "\n",
        "print(\"✅ Cliente MinIO configurado com sucesso!\")\n"
      ]
    },
    {
      "cell_type": "code",
      "execution_count": null,
      "metadata": {},
      "outputs": [],
      "source": [
        "# Criar buckets\n",
        "buckets_to_create = [\n",
        "    \"landing-zone\",  # Dados brutos\n",
        "    \"bronze-zone\",   # Dados limpos\n",
        "    \"silver-zone\",   # Dados transformados\n",
        "    \"gold-zone\"      # Dados finais/agregados\n",
        "]\n",
        "\n",
        "print(\"🚀 Criando buckets no MinIO...\")\n",
        "print(\"-\" * 50)\n",
        "\n",
        "for bucket in buckets_to_create:\n",
        "    try:\n",
        "        s3_client.create_bucket(Bucket=bucket)\n",
        "        print(f\"✅ Bucket '{bucket}' criado com sucesso.\")\n",
        "    except s3_client.exceptions.BucketAlreadyOwnedByYou:\n",
        "        print(f\"ℹ️  Bucket '{bucket}' já existe.\")\n",
        "    except Exception as e:\n",
        "        print(f\"⚠️  Erro ao criar bucket '{bucket}': {e}\")\n",
        "\n",
        "print(\"-\" * 50)\n",
        "print(\"✅ Processo concluído!\")\n"
      ]
    },
    {
      "cell_type": "code",
      "execution_count": null,
      "metadata": {},
      "outputs": [],
      "source": [
        "# Listar todos os buckets criados\n",
        "response = s3_client.list_buckets()\n",
        "\n",
        "print(\"📦 Buckets disponíveis no MinIO:\")\n",
        "print(\"-\" * 50)\n",
        "for bucket in response['Buckets']:\n",
        "    print(f\"  • {bucket['Name']}\")\n"
      ]
    },
    {
      "cell_type": "markdown",
      "metadata": {},
      "source": [
        "## 🎯 Próximos passos:\n",
        "\n",
        "1. Acesse o MinIO Console: http://localhost:9001\n",
        "2. Login: `minioadmin` / `minioadmin`\n",
        "3. Visualize os buckets criados\n",
        "4. Faça upload de arquivos de teste\n"
      ]
    }
  ],
  "metadata": {
    "language_info": {
      "name": "python"
    }
  },
  "nbformat": 4,
  "nbformat_minor": 2
}
