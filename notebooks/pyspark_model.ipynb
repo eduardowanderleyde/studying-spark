{
 "cells": [
  {
   "cell_type": "markdown",
   "metadata": {},
   "source": [
    "# PySpark no Jupyter \n",
    "\n",
    "Este notebook mostra como configurar PySpark corretamente no Jupyter.\n"
   ]
  },
  {
   "cell_type": "code",
   "execution_count": 1,
   "metadata": {},
   "outputs": [],
   "source": [
    "# Configurar variáveis de ambiente ANTES de importar PySpark\n",
    "import os\n",
    "os.environ['PYSPARK_PYTHON'] = 'python'\n",
    "os.environ['PYSPARK_DRIVER_PYTHON'] = 'python'\n"
   ]
  },
  {
   "cell_type": "code",
   "execution_count": 12,
   "metadata": {},
   "outputs": [],
   "source": [
    "# Importar PySpark APÓS configurar as variáveis\n",
    "from pyspark.sql import SparkSession\n",
    "from pyspark.sql.types import StructType, StructField, StringType, IntegerType\n"
   ]
  },
  {
   "cell_type": "code",
   "execution_count": 13,
   "metadata": {},
   "outputs": [
    {
     "name": "stdout",
     "output_type": "stream",
     "text": [
      "✅ Spark 3.5.0 iniciado com sucesso!\n"
     ]
    }
   ],
   "source": [
    "# Criar SparkSession\n",
    "spark = SparkSession.builder \\\n",
    "    .appName(\"PySpark_Jupyter\") \\\n",
    "    .master(\"local[*]\") \\\n",
    "    .config(\"spark.sql.adaptive.enabled\", \"true\") \\\n",
    "    .getOrCreate()\n",
    "\n",
    "print(f\"✅ Spark {spark.version} iniciado com sucesso!\")\n"
   ]
  },
  {
   "cell_type": "code",
   "execution_count": 14,
   "metadata": {},
   "outputs": [],
   "source": [
    "# Dados de exemplo\n",
    "data = [\n",
    "    (\"João\", \"Silva\", 25, 5000),\n",
    "    (\"Maria\", \"Santos\", 30, 6000),\n",
    "    (\"Pedro\", \"Oliveira\", 28, 5500)\n",
    "]\n",
    "\n"
   ]
  },
  {
   "cell_type": "code",
   "execution_count": 15,
   "metadata": {},
   "outputs": [],
   "source": [
    "schema = StructType([\n",
    "    StructField(\"nome\", StringType(), True),\n",
    "    StructField(\"sobrenome\", StringType(), True),\n",
    "    StructField(\"idade\", IntegerType(), True),\n",
    "    StructField(\"salario\", IntegerType(), True)\n",
    "])\n",
    "\n"
   ]
  },
  {
   "cell_type": "code",
   "execution_count": 16,
   "metadata": {},
   "outputs": [],
   "source": [
    "df = spark.createDataFrame(data, schema)\n"
   ]
  },
  {
   "cell_type": "code",
   "execution_count": 17,
   "metadata": {},
   "outputs": [
    {
     "name": "stdout",
     "output_type": "stream",
     "text": [
      "root\n",
      " |-- nome: string (nullable = true)\n",
      " |-- sobrenome: string (nullable = true)\n",
      " |-- idade: integer (nullable = true)\n",
      " |-- salario: integer (nullable = true)\n",
      "\n"
     ]
    }
   ],
   "source": [
    "df.printSchema()"
   ]
  },
  {
   "cell_type": "code",
   "execution_count": 18,
   "metadata": {},
   "outputs": [
    {
     "name": "stdout",
     "output_type": "stream",
     "text": [
      "+-----+---------+-----+-------+\n",
      "| nome|sobrenome|idade|salario|\n",
      "+-----+---------+-----+-------+\n",
      "| João|    Silva|   25|   5000|\n",
      "|Maria|   Santos|   30|   6000|\n",
      "|Pedro| Oliveira|   28|   5500|\n",
      "+-----+---------+-----+-------+\n",
      "\n"
     ]
    }
   ],
   "source": [
    "df.show()"
   ]
  },
  {
   "cell_type": "markdown",
   "metadata": {},
   "source": [
    "#truncate = False para as strings não precisar mostrar inteiras \n",
    "\n",
    "#vertical = True para ver na vertical"
   ]
  },
  {
   "cell_type": "code",
   "execution_count": 19,
   "metadata": {},
   "outputs": [
    {
     "name": "stdout",
     "output_type": "stream",
     "text": [
      "-RECORD 0-----------\n",
      " nome      | João   \n",
      " sobrenome | Silva  \n",
      " idade     | 25     \n",
      " salario   | 5000   \n",
      "-RECORD 1-----------\n",
      " nome      | Maria  \n",
      " sobrenome | Santos \n",
      " idade     | 30     \n",
      " salario   | 6000   \n",
      "only showing top 2 rows\n",
      "\n"
     ]
    }
   ],
   "source": [
    "df.show(2, truncate=False, vertical=True)"
   ]
  },
  {
   "cell_type": "code",
   "execution_count": 20,
   "metadata": {},
   "outputs": [
    {
     "name": "stdout",
     "output_type": "stream",
     "text": [
      "-RECORD 0-------------\n",
      " nome      | João     \n",
      " sobrenome | Silva    \n",
      " idade     | 25       \n",
      " salario   | 5000     \n",
      "-RECORD 1-------------\n",
      " nome      | Maria    \n",
      " sobrenome | Santos   \n",
      " idade     | 30       \n",
      " salario   | 6000     \n",
      "-RECORD 2-------------\n",
      " nome      | Pedro    \n",
      " sobrenome | Oliveira \n",
      " idade     | 28       \n",
      " salario   | 5500     \n",
      "\n"
     ]
    }
   ],
   "source": [
    "df.show(5, truncate=False, vertical=True)"
   ]
  },
  {
   "cell_type": "code",
   "execution_count": 21,
   "metadata": {},
   "outputs": [
    {
     "name": "stdout",
     "output_type": "stream",
     "text": [
      "-RECORD 0-------------\n",
      " nome      | João     \n",
      " sobrenome | Silva    \n",
      " idade     | 25       \n",
      " salario   | 5000     \n",
      "-RECORD 1-------------\n",
      " nome      | Maria    \n",
      " sobrenome | Santos   \n",
      " idade     | 30       \n",
      " salario   | 6000     \n",
      "-RECORD 2-------------\n",
      " nome      | Pedro    \n",
      " sobrenome | Oliveira \n",
      " idade     | 28       \n",
      " salario   | 5500     \n",
      "\n"
     ]
    }
   ],
   "source": [
    "df.show(5, truncate=True, vertical=True)"
   ]
  },
  {
   "cell_type": "code",
   "execution_count": null,
   "metadata": {},
   "outputs": [],
   "source": []
  }
 ],
 "metadata": {
  "kernelspec": {
   "display_name": "Python 3 (ipykernel)",
   "language": "python",
   "name": "python3"
  },
  "language_info": {
   "codemirror_mode": {
    "name": "ipython",
    "version": 3
   },
   "file_extension": ".py",
   "mimetype": "text/x-python",
   "name": "python",
   "nbconvert_exporter": "python",
   "pygments_lexer": "ipython3",
   "version": "3.11.6"
  }
 },
 "nbformat": 4,
 "nbformat_minor": 4
}
